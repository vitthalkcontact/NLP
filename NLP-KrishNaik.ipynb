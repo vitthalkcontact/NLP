{
 "cells": [
  {
   "cell_type": "markdown",
   "metadata": {},
   "source": [
    "# First Lesson"
   ]
  },
  {
   "cell_type": "code",
   "execution_count": 42,
   "metadata": {},
   "outputs": [],
   "source": [
    "import nltk"
   ]
  },
  {
   "cell_type": "code",
   "execution_count": 43,
   "metadata": {},
   "outputs": [
    {
     "name": "stdout",
     "output_type": "stream",
     "text": [
      "showing info https://raw.githubusercontent.com/nltk/nltk_data/gh-pages/index.xml\n"
     ]
    },
    {
     "data": {
      "text/plain": [
       "True"
      ]
     },
     "execution_count": 43,
     "metadata": {},
     "output_type": "execute_result"
    }
   ],
   "source": [
    "nltk.download()"
   ]
  },
  {
   "cell_type": "code",
   "execution_count": 3,
   "metadata": {},
   "outputs": [],
   "source": [
    "#nltk.download('punkt')"
   ]
  },
  {
   "cell_type": "code",
   "execution_count": 44,
   "metadata": {},
   "outputs": [],
   "source": [
    "paragraph = \"\"\" I have three visions for India. In 3000 years of our history, people from all over the world have \n",
    "come and invaded us, captured our lands, conquered our minds. From Alexander onwards, the Greeks, the Turks, \n",
    "the Moguls, the Portuguese, the British, the French, the Dutch, all of them came and looted us, took over \n",
    "what was ours. Yet, we have not done this to any other nation. We have not conquered anyone. We have not \n",
    "grabbed their land, their culture, their history and tried to enforce our way of life on them. Why? \n",
    "Because we respect the freedom of others.That is why my first vision is that of FREEDOM. I believe that \n",
    "India got its first vision of this in 1857, when we started the war of Independence. It is this freedom \n",
    "that we must protect and nurture and build on. If we are not free, no one will respect us. My second vision \n",
    "for India’s DEVELOPMENT. For fifty years we have been a developing nation. It is time we see ourselves as \n",
    "a developed nation. We are among top five nations of the world in terms of GDP. We have 10 per cent growth \n",
    "rate in most areas. Our poverty levels are falling. Our achievements are being globally recognised today. \n",
    "Yet we lack the self-confidence to see ourselves as a developed nation, self-reliant and self-assured. \n",
    "Isn’t this incorrect? I have a THIRD vision. India must stand up to the world. Because I believe that, \n",
    "unless India stands up to the world, no one will respect us. Only strength respects strength. We must be \n",
    "strong not only as a military power but also as an economic power. Both must go hand-in-hand. My good fortune \n",
    "was to have worked with three great minds. Dr. Vikram Sarabhai of the Department of Space, Professor \n",
    "Satish Dhawan, who succeeded him and Dr.Brahm Prakash, the father of nuclear material. I was lucky to \n",
    "have worked with all three of them closely and consider this the great opportunity of my life. \"\"\""
   ]
  },
  {
   "cell_type": "code",
   "execution_count": 45,
   "metadata": {},
   "outputs": [],
   "source": [
    "sentences = nltk.sent_tokenize(paragraph)"
   ]
  },
  {
   "cell_type": "code",
   "execution_count": 46,
   "metadata": {},
   "outputs": [
    {
     "data": {
      "text/plain": [
       "[' I have three visions for India.',\n",
       " 'In 3000 years of our history, people from all over the world have \\ncome and invaded us, captured our lands, conquered our minds.',\n",
       " 'From Alexander onwards, the Greeks, the Turks, \\nthe Moguls, the Portuguese, the British, the French, the Dutch, all of them came and looted us, took over \\nwhat was ours.',\n",
       " 'Yet, we have not done this to any other nation.',\n",
       " 'We have not conquered anyone.',\n",
       " 'We have not \\ngrabbed their land, their culture, their history and tried to enforce our way of life on them.',\n",
       " 'Why?',\n",
       " 'Because we respect the freedom of others.That is why my first vision is that of FREEDOM.',\n",
       " 'I believe that \\nIndia got its first vision of this in 1857, when we started the war of Independence.',\n",
       " 'It is this freedom \\nthat we must protect and nurture and build on.',\n",
       " 'If we are not free, no one will respect us.',\n",
       " 'My second vision \\nfor India’s DEVELOPMENT.',\n",
       " 'For fifty years we have been a developing nation.',\n",
       " 'It is time we see ourselves as \\na developed nation.',\n",
       " 'We are among top five nations of the world in terms of GDP.',\n",
       " 'We have 10 per cent growth \\nrate in most areas.',\n",
       " 'Our poverty levels are falling.',\n",
       " 'Our achievements are being globally recognised today.',\n",
       " 'Yet we lack the self-confidence to see ourselves as a developed nation, self-reliant and self-assured.',\n",
       " 'Isn’t this incorrect?',\n",
       " 'I have a THIRD vision.',\n",
       " 'India must stand up to the world.',\n",
       " 'Because I believe that, \\nunless India stands up to the world, no one will respect us.',\n",
       " 'Only strength respects strength.',\n",
       " 'We must be \\nstrong not only as a military power but also as an economic power.',\n",
       " 'Both must go hand-in-hand.',\n",
       " 'My good fortune \\nwas to have worked with three great minds.',\n",
       " 'Dr. Vikram Sarabhai of the Department of Space, Professor \\nSatish Dhawan, who succeeded him and Dr.Brahm Prakash, the father of nuclear material.',\n",
       " 'I was lucky to \\nhave worked with all three of them closely and consider this the great opportunity of my life.']"
      ]
     },
     "execution_count": 46,
     "metadata": {},
     "output_type": "execute_result"
    }
   ],
   "source": [
    "sentences"
   ]
  },
  {
   "cell_type": "code",
   "execution_count": 47,
   "metadata": {},
   "outputs": [],
   "source": [
    "words = nltk.word_tokenize(paragraph)"
   ]
  },
  {
   "cell_type": "code",
   "execution_count": 48,
   "metadata": {},
   "outputs": [
    {
     "data": {
      "text/plain": [
       "['I',\n",
       " 'have',\n",
       " 'three',\n",
       " 'visions',\n",
       " 'for',\n",
       " 'India',\n",
       " '.',\n",
       " 'In',\n",
       " '3000',\n",
       " 'years',\n",
       " 'of',\n",
       " 'our',\n",
       " 'history',\n",
       " ',',\n",
       " 'people',\n",
       " 'from',\n",
       " 'all',\n",
       " 'over',\n",
       " 'the',\n",
       " 'world',\n",
       " 'have',\n",
       " 'come',\n",
       " 'and',\n",
       " 'invaded',\n",
       " 'us',\n",
       " ',',\n",
       " 'captured',\n",
       " 'our',\n",
       " 'lands',\n",
       " ',',\n",
       " 'conquered',\n",
       " 'our',\n",
       " 'minds',\n",
       " '.',\n",
       " 'From',\n",
       " 'Alexander',\n",
       " 'onwards',\n",
       " ',',\n",
       " 'the',\n",
       " 'Greeks',\n",
       " ',',\n",
       " 'the',\n",
       " 'Turks',\n",
       " ',',\n",
       " 'the',\n",
       " 'Moguls',\n",
       " ',',\n",
       " 'the',\n",
       " 'Portuguese',\n",
       " ',',\n",
       " 'the',\n",
       " 'British',\n",
       " ',',\n",
       " 'the',\n",
       " 'French',\n",
       " ',',\n",
       " 'the',\n",
       " 'Dutch',\n",
       " ',',\n",
       " 'all',\n",
       " 'of',\n",
       " 'them',\n",
       " 'came',\n",
       " 'and',\n",
       " 'looted',\n",
       " 'us',\n",
       " ',',\n",
       " 'took',\n",
       " 'over',\n",
       " 'what',\n",
       " 'was',\n",
       " 'ours',\n",
       " '.',\n",
       " 'Yet',\n",
       " ',',\n",
       " 'we',\n",
       " 'have',\n",
       " 'not',\n",
       " 'done',\n",
       " 'this',\n",
       " 'to',\n",
       " 'any',\n",
       " 'other',\n",
       " 'nation',\n",
       " '.',\n",
       " 'We',\n",
       " 'have',\n",
       " 'not',\n",
       " 'conquered',\n",
       " 'anyone',\n",
       " '.',\n",
       " 'We',\n",
       " 'have',\n",
       " 'not',\n",
       " 'grabbed',\n",
       " 'their',\n",
       " 'land',\n",
       " ',',\n",
       " 'their',\n",
       " 'culture',\n",
       " ',',\n",
       " 'their',\n",
       " 'history',\n",
       " 'and',\n",
       " 'tried',\n",
       " 'to',\n",
       " 'enforce',\n",
       " 'our',\n",
       " 'way',\n",
       " 'of',\n",
       " 'life',\n",
       " 'on',\n",
       " 'them',\n",
       " '.',\n",
       " 'Why',\n",
       " '?',\n",
       " 'Because',\n",
       " 'we',\n",
       " 'respect',\n",
       " 'the',\n",
       " 'freedom',\n",
       " 'of',\n",
       " 'others.That',\n",
       " 'is',\n",
       " 'why',\n",
       " 'my',\n",
       " 'first',\n",
       " 'vision',\n",
       " 'is',\n",
       " 'that',\n",
       " 'of',\n",
       " 'FREEDOM',\n",
       " '.',\n",
       " 'I',\n",
       " 'believe',\n",
       " 'that',\n",
       " 'India',\n",
       " 'got',\n",
       " 'its',\n",
       " 'first',\n",
       " 'vision',\n",
       " 'of',\n",
       " 'this',\n",
       " 'in',\n",
       " '1857',\n",
       " ',',\n",
       " 'when',\n",
       " 'we',\n",
       " 'started',\n",
       " 'the',\n",
       " 'war',\n",
       " 'of',\n",
       " 'Independence',\n",
       " '.',\n",
       " 'It',\n",
       " 'is',\n",
       " 'this',\n",
       " 'freedom',\n",
       " 'that',\n",
       " 'we',\n",
       " 'must',\n",
       " 'protect',\n",
       " 'and',\n",
       " 'nurture',\n",
       " 'and',\n",
       " 'build',\n",
       " 'on',\n",
       " '.',\n",
       " 'If',\n",
       " 'we',\n",
       " 'are',\n",
       " 'not',\n",
       " 'free',\n",
       " ',',\n",
       " 'no',\n",
       " 'one',\n",
       " 'will',\n",
       " 'respect',\n",
       " 'us',\n",
       " '.',\n",
       " 'My',\n",
       " 'second',\n",
       " 'vision',\n",
       " 'for',\n",
       " 'India',\n",
       " '’',\n",
       " 's',\n",
       " 'DEVELOPMENT',\n",
       " '.',\n",
       " 'For',\n",
       " 'fifty',\n",
       " 'years',\n",
       " 'we',\n",
       " 'have',\n",
       " 'been',\n",
       " 'a',\n",
       " 'developing',\n",
       " 'nation',\n",
       " '.',\n",
       " 'It',\n",
       " 'is',\n",
       " 'time',\n",
       " 'we',\n",
       " 'see',\n",
       " 'ourselves',\n",
       " 'as',\n",
       " 'a',\n",
       " 'developed',\n",
       " 'nation',\n",
       " '.',\n",
       " 'We',\n",
       " 'are',\n",
       " 'among',\n",
       " 'top',\n",
       " 'five',\n",
       " 'nations',\n",
       " 'of',\n",
       " 'the',\n",
       " 'world',\n",
       " 'in',\n",
       " 'terms',\n",
       " 'of',\n",
       " 'GDP',\n",
       " '.',\n",
       " 'We',\n",
       " 'have',\n",
       " '10',\n",
       " 'per',\n",
       " 'cent',\n",
       " 'growth',\n",
       " 'rate',\n",
       " 'in',\n",
       " 'most',\n",
       " 'areas',\n",
       " '.',\n",
       " 'Our',\n",
       " 'poverty',\n",
       " 'levels',\n",
       " 'are',\n",
       " 'falling',\n",
       " '.',\n",
       " 'Our',\n",
       " 'achievements',\n",
       " 'are',\n",
       " 'being',\n",
       " 'globally',\n",
       " 'recognised',\n",
       " 'today',\n",
       " '.',\n",
       " 'Yet',\n",
       " 'we',\n",
       " 'lack',\n",
       " 'the',\n",
       " 'self-confidence',\n",
       " 'to',\n",
       " 'see',\n",
       " 'ourselves',\n",
       " 'as',\n",
       " 'a',\n",
       " 'developed',\n",
       " 'nation',\n",
       " ',',\n",
       " 'self-reliant',\n",
       " 'and',\n",
       " 'self-assured',\n",
       " '.',\n",
       " 'Isn',\n",
       " '’',\n",
       " 't',\n",
       " 'this',\n",
       " 'incorrect',\n",
       " '?',\n",
       " 'I',\n",
       " 'have',\n",
       " 'a',\n",
       " 'THIRD',\n",
       " 'vision',\n",
       " '.',\n",
       " 'India',\n",
       " 'must',\n",
       " 'stand',\n",
       " 'up',\n",
       " 'to',\n",
       " 'the',\n",
       " 'world',\n",
       " '.',\n",
       " 'Because',\n",
       " 'I',\n",
       " 'believe',\n",
       " 'that',\n",
       " ',',\n",
       " 'unless',\n",
       " 'India',\n",
       " 'stands',\n",
       " 'up',\n",
       " 'to',\n",
       " 'the',\n",
       " 'world',\n",
       " ',',\n",
       " 'no',\n",
       " 'one',\n",
       " 'will',\n",
       " 'respect',\n",
       " 'us',\n",
       " '.',\n",
       " 'Only',\n",
       " 'strength',\n",
       " 'respects',\n",
       " 'strength',\n",
       " '.',\n",
       " 'We',\n",
       " 'must',\n",
       " 'be',\n",
       " 'strong',\n",
       " 'not',\n",
       " 'only',\n",
       " 'as',\n",
       " 'a',\n",
       " 'military',\n",
       " 'power',\n",
       " 'but',\n",
       " 'also',\n",
       " 'as',\n",
       " 'an',\n",
       " 'economic',\n",
       " 'power',\n",
       " '.',\n",
       " 'Both',\n",
       " 'must',\n",
       " 'go',\n",
       " 'hand-in-hand',\n",
       " '.',\n",
       " 'My',\n",
       " 'good',\n",
       " 'fortune',\n",
       " 'was',\n",
       " 'to',\n",
       " 'have',\n",
       " 'worked',\n",
       " 'with',\n",
       " 'three',\n",
       " 'great',\n",
       " 'minds',\n",
       " '.',\n",
       " 'Dr.',\n",
       " 'Vikram',\n",
       " 'Sarabhai',\n",
       " 'of',\n",
       " 'the',\n",
       " 'Department',\n",
       " 'of',\n",
       " 'Space',\n",
       " ',',\n",
       " 'Professor',\n",
       " 'Satish',\n",
       " 'Dhawan',\n",
       " ',',\n",
       " 'who',\n",
       " 'succeeded',\n",
       " 'him',\n",
       " 'and',\n",
       " 'Dr.Brahm',\n",
       " 'Prakash',\n",
       " ',',\n",
       " 'the',\n",
       " 'father',\n",
       " 'of',\n",
       " 'nuclear',\n",
       " 'material',\n",
       " '.',\n",
       " 'I',\n",
       " 'was',\n",
       " 'lucky',\n",
       " 'to',\n",
       " 'have',\n",
       " 'worked',\n",
       " 'with',\n",
       " 'all',\n",
       " 'three',\n",
       " 'of',\n",
       " 'them',\n",
       " 'closely',\n",
       " 'and',\n",
       " 'consider',\n",
       " 'this',\n",
       " 'the',\n",
       " 'great',\n",
       " 'opportunity',\n",
       " 'of',\n",
       " 'my',\n",
       " 'life',\n",
       " '.']"
      ]
     },
     "execution_count": 48,
     "metadata": {},
     "output_type": "execute_result"
    }
   ],
   "source": [
    "words"
   ]
  },
  {
   "cell_type": "code",
   "execution_count": 49,
   "metadata": {},
   "outputs": [
    {
     "data": {
      "text/plain": [
       "392"
      ]
     },
     "execution_count": 49,
     "metadata": {},
     "output_type": "execute_result"
    }
   ],
   "source": [
    "len(words)"
   ]
  },
  {
   "cell_type": "markdown",
   "metadata": {},
   "source": [
    "# End of First Lesson"
   ]
  },
  {
   "cell_type": "markdown",
   "metadata": {},
   "source": [
    "# Second Lesson"
   ]
  },
  {
   "cell_type": "markdown",
   "metadata": {},
   "source": [
    "# Stemming (Base or root form of word)"
   ]
  },
  {
   "cell_type": "code",
   "execution_count": 50,
   "metadata": {},
   "outputs": [],
   "source": [
    "from nltk.stem import PorterStemmer"
   ]
  },
  {
   "cell_type": "code",
   "execution_count": 51,
   "metadata": {},
   "outputs": [],
   "source": [
    "from nltk.corpus import stopwords"
   ]
  },
  {
   "cell_type": "code",
   "execution_count": 12,
   "metadata": {},
   "outputs": [],
   "source": [
    "paragraph = \"\"\" I have three visions for India. In 3000 years of our history, people from all over the world have \n",
    "come and invaded us, captured our lands, conquered our minds. From Alexander onwards, the Greeks, the Turks, \n",
    "the Moguls, the Portuguese, the British, the French, the Dutch, all of them came and looted us, took over \n",
    "what was ours. Yet, we have not done this to any other nation. We have not conquered anyone. We have not \n",
    "grabbed their land, their culture, their history and tried to enforce our way of life on them. Why? \n",
    "Because we respect the freedom of others.That is why my first vision is that of FREEDOM. I believe that \n",
    "India got its first vision of this in 1857, when we started the war of Independence. It is this freedom \n",
    "that we must protect and nurture and build on. If we are not free, no one will respect us. My second vision \n",
    "for India’s DEVELOPMENT. For fifty years we have been a developing nation. It is time we see ourselves as \n",
    "a developed nation. We are among top five nations of the world in terms of GDP. We have 10 per cent growth \n",
    "rate in most areas. Our poverty levels are falling. Our achievements are being globally recognised today. \n",
    "Yet we lack the self-confidence to see ourselves as a developed nation, self-reliant and self-assured. \n",
    "Isn’t this incorrect? I have a THIRD vision. India must stand up to the world. Because I believe that, \n",
    "unless India stands up to the world, no one will respect us. Only strength respects strength. We must be \n",
    "strong not only as a military power but also as an economic power. Both must go hand-in-hand. My good fortune \n",
    "was to have worked with three great minds. Dr. Vikram Sarabhai of the Department of Space, Professor \n",
    "Satish Dhawan, who succeeded him and Dr.Brahm Prakash, the father of nuclear material. I was lucky to \n",
    "have worked with all three of them closely and consider this the great opportunity of my life. \"\"\""
   ]
  },
  {
   "cell_type": "code",
   "execution_count": 52,
   "metadata": {},
   "outputs": [
    {
     "data": {
      "text/plain": [
       "' I have three visions for India. In 3000 years of our history, people from all over the world have \\ncome and invaded us, captured our lands, conquered our minds. From Alexander onwards, the Greeks, the Turks, \\nthe Moguls, the Portuguese, the British, the French, the Dutch, all of them came and looted us, took over \\nwhat was ours. Yet, we have not done this to any other nation. We have not conquered anyone. We have not \\ngrabbed their land, their culture, their history and tried to enforce our way of life on them. Why? \\nBecause we respect the freedom of others.That is why my first vision is that of FREEDOM. I believe that \\nIndia got its first vision of this in 1857, when we started the war of Independence. It is this freedom \\nthat we must protect and nurture and build on. If we are not free, no one will respect us. My second vision \\nfor India’s DEVELOPMENT. For fifty years we have been a developing nation. It is time we see ourselves as \\na developed nation. We are among top five nations of the world in terms of GDP. We have 10 per cent growth \\nrate in most areas. Our poverty levels are falling. Our achievements are being globally recognised today. \\nYet we lack the self-confidence to see ourselves as a developed nation, self-reliant and self-assured. \\nIsn’t this incorrect? I have a THIRD vision. India must stand up to the world. Because I believe that, \\nunless India stands up to the world, no one will respect us. Only strength respects strength. We must be \\nstrong not only as a military power but also as an economic power. Both must go hand-in-hand. My good fortune \\nwas to have worked with three great minds. Dr. Vikram Sarabhai of the Department of Space, Professor \\nSatish Dhawan, who succeeded him and Dr.Brahm Prakash, the father of nuclear material. I was lucky to \\nhave worked with all three of them closely and consider this the great opportunity of my life. '"
      ]
     },
     "execution_count": 52,
     "metadata": {},
     "output_type": "execute_result"
    }
   ],
   "source": [
    "paragraph"
   ]
  },
  {
   "cell_type": "code",
   "execution_count": 53,
   "metadata": {},
   "outputs": [],
   "source": [
    "sentences = nltk.sent_tokenize(paragraph)"
   ]
  },
  {
   "cell_type": "code",
   "execution_count": 54,
   "metadata": {},
   "outputs": [
    {
     "data": {
      "text/plain": [
       "[' I have three visions for India.',\n",
       " 'In 3000 years of our history, people from all over the world have \\ncome and invaded us, captured our lands, conquered our minds.',\n",
       " 'From Alexander onwards, the Greeks, the Turks, \\nthe Moguls, the Portuguese, the British, the French, the Dutch, all of them came and looted us, took over \\nwhat was ours.',\n",
       " 'Yet, we have not done this to any other nation.',\n",
       " 'We have not conquered anyone.',\n",
       " 'We have not \\ngrabbed their land, their culture, their history and tried to enforce our way of life on them.',\n",
       " 'Why?',\n",
       " 'Because we respect the freedom of others.That is why my first vision is that of FREEDOM.',\n",
       " 'I believe that \\nIndia got its first vision of this in 1857, when we started the war of Independence.',\n",
       " 'It is this freedom \\nthat we must protect and nurture and build on.',\n",
       " 'If we are not free, no one will respect us.',\n",
       " 'My second vision \\nfor India’s DEVELOPMENT.',\n",
       " 'For fifty years we have been a developing nation.',\n",
       " 'It is time we see ourselves as \\na developed nation.',\n",
       " 'We are among top five nations of the world in terms of GDP.',\n",
       " 'We have 10 per cent growth \\nrate in most areas.',\n",
       " 'Our poverty levels are falling.',\n",
       " 'Our achievements are being globally recognised today.',\n",
       " 'Yet we lack the self-confidence to see ourselves as a developed nation, self-reliant and self-assured.',\n",
       " 'Isn’t this incorrect?',\n",
       " 'I have a THIRD vision.',\n",
       " 'India must stand up to the world.',\n",
       " 'Because I believe that, \\nunless India stands up to the world, no one will respect us.',\n",
       " 'Only strength respects strength.',\n",
       " 'We must be \\nstrong not only as a military power but also as an economic power.',\n",
       " 'Both must go hand-in-hand.',\n",
       " 'My good fortune \\nwas to have worked with three great minds.',\n",
       " 'Dr. Vikram Sarabhai of the Department of Space, Professor \\nSatish Dhawan, who succeeded him and Dr.Brahm Prakash, the father of nuclear material.',\n",
       " 'I was lucky to \\nhave worked with all three of them closely and consider this the great opportunity of my life.']"
      ]
     },
     "execution_count": 54,
     "metadata": {},
     "output_type": "execute_result"
    }
   ],
   "source": [
    "sentences\n",
    "# len(sentences)"
   ]
  },
  {
   "cell_type": "code",
   "execution_count": 16,
   "metadata": {},
   "outputs": [],
   "source": [
    "# stopwords.words('english')\n",
    "# len(stopwords.words('english'))"
   ]
  },
  {
   "cell_type": "code",
   "execution_count": 55,
   "metadata": {},
   "outputs": [],
   "source": [
    "stemmer = PorterStemmer()"
   ]
  },
  {
   "cell_type": "markdown",
   "metadata": {},
   "source": [
    "# Stemming"
   ]
  },
  {
   "cell_type": "code",
   "execution_count": 56,
   "metadata": {},
   "outputs": [],
   "source": [
    "#stemming\n",
    "for i in range(len(sentences)):\n",
    "    words = nltk.word_tokenize(sentences[i])\n",
    "    words = [stemmer.stem(word) for word in words if word not in set(stopwords.words('english'))] # List Comprehension (O/p -> Loop -> condition)\n",
    "    sentences[i] = ' '.join(words)"
   ]
  },
  {
   "cell_type": "code",
   "execution_count": 57,
   "metadata": {},
   "outputs": [
    {
     "data": {
      "text/plain": [
       "['I three vision india .',\n",
       " 'In 3000 year histori , peopl world come invad us , captur land , conquer mind .',\n",
       " 'from alexand onward , greek , turk , mogul , portugues , british , french , dutch , came loot us , took .',\n",
       " 'yet , done nation .',\n",
       " 'We conquer anyon .',\n",
       " 'We grab land , cultur , histori tri enforc way life .',\n",
       " 'whi ?',\n",
       " 'becaus respect freedom others.that first vision freedom .',\n",
       " 'I believ india got first vision 1857 , start war independ .',\n",
       " 'It freedom must protect nurtur build .',\n",
       " 'If free , one respect us .',\n",
       " 'My second vision india ’ develop .',\n",
       " 'for fifti year develop nation .',\n",
       " 'It time see develop nation .',\n",
       " 'We among top five nation world term gdp .',\n",
       " 'We 10 per cent growth rate area .',\n",
       " 'our poverti level fall .',\n",
       " 'our achiev global recognis today .',\n",
       " 'yet lack self-confid see develop nation , self-reli self-assur .',\n",
       " 'isn ’ incorrect ?',\n",
       " 'I third vision .',\n",
       " 'india must stand world .',\n",
       " 'becaus I believ , unless india stand world , one respect us .',\n",
       " 'onli strength respect strength .',\n",
       " 'We must strong militari power also econom power .',\n",
       " 'both must go hand-in-hand .',\n",
       " 'My good fortun work three great mind .',\n",
       " 'dr. vikram sarabhai depart space , professor satish dhawan , succeed dr.brahm prakash , father nuclear materi .',\n",
       " 'I lucki work three close consid great opportun life .']"
      ]
     },
     "execution_count": 57,
     "metadata": {},
     "output_type": "execute_result"
    }
   ],
   "source": [
    "sentences"
   ]
  },
  {
   "cell_type": "markdown",
   "metadata": {},
   "source": [
    "# End of Second Lesson"
   ]
  },
  {
   "cell_type": "markdown",
   "metadata": {},
   "source": [
    "# Third Lesson"
   ]
  },
  {
   "cell_type": "code",
   "execution_count": 58,
   "metadata": {},
   "outputs": [],
   "source": [
    "from nltk.stem import WordNetLemmatizer"
   ]
  },
  {
   "cell_type": "code",
   "execution_count": 59,
   "metadata": {},
   "outputs": [],
   "source": [
    "from nltk.corpus import stopwords"
   ]
  },
  {
   "cell_type": "code",
   "execution_count": 60,
   "metadata": {},
   "outputs": [],
   "source": [
    "paragraph = \"\"\" I have three visions for India. In 3000 years of our history, people from all over the world have \n",
    "come and invaded us, captured our lands, conquered our minds. From Alexander onwards, the Greeks, the Turks, \n",
    "the Moguls, the Portuguese, the British, the French, the Dutch, all of them came and looted us, took over \n",
    "what was ours. Yet, we have not done this to any other nation. We have not conquered anyone. We have not \n",
    "grabbed their land, their culture, their history and tried to enforce our way of life on them. Why? \n",
    "Because we respect the freedom of others.That is why my first vision is that of FREEDOM. I believe that \n",
    "India got its first vision of this in 1857, when we started the war of Independence. It is this freedom \n",
    "that we must protect and nurture and build on. If we are not free, no one will respect us. My second vision \n",
    "for India’s DEVELOPMENT. For fifty years we have been a developing nation. It is time we see ourselves as \n",
    "a developed nation. We are among top five nations of the world in terms of GDP. We have 10 per cent growth \n",
    "rate in most areas. Our poverty levels are falling. Our achievements are being globally recognised today. \n",
    "Yet we lack the self-confidence to see ourselves as a developed nation, self-reliant and self-assured. \n",
    "Isn’t this incorrect? I have a THIRD vision. India must stand up to the world. Because I believe that, \n",
    "unless India stands up to the world, no one will respect us. Only strength respects strength. We must be \n",
    "strong not only as a military power but also as an economic power. Both must go hand-in-hand. My good fortune \n",
    "was to have worked with three great minds. Dr. Vikram Sarabhai of the Department of Space, Professor \n",
    "Satish Dhawan, who succeeded him and Dr.Brahm Prakash, the father of nuclear material. I was lucky to \n",
    "have worked with all three of them closely and consider this the great opportunity of my life. \"\"\""
   ]
  },
  {
   "cell_type": "code",
   "execution_count": 61,
   "metadata": {},
   "outputs": [],
   "source": [
    "sentences = nltk.sent_tokenize('paragraph')"
   ]
  },
  {
   "cell_type": "code",
   "execution_count": 62,
   "metadata": {},
   "outputs": [],
   "source": [
    "lemmatizer = WordNetLemmatizer()"
   ]
  },
  {
   "cell_type": "markdown",
   "metadata": {},
   "source": [
    "# Lemmatization"
   ]
  },
  {
   "cell_type": "code",
   "execution_count": 63,
   "metadata": {},
   "outputs": [],
   "source": [
    "# Lemmatization\n",
    "for i in range(len(sentences)):\n",
    "    words = nltk.word_tokenize(sentences[i])\n",
    "    words = [lemmatizer.lemmatize(word) for word in words if word not in set(stopwords.words('english'))] # List Comprehension (O/p -> Loop -> condition)\n",
    "    sentences[i] = ' '.join(words)"
   ]
  },
  {
   "cell_type": "code",
   "execution_count": 64,
   "metadata": {},
   "outputs": [
    {
     "data": {
      "text/plain": [
       "['paragraph']"
      ]
     },
     "execution_count": 64,
     "metadata": {},
     "output_type": "execute_result"
    }
   ],
   "source": [
    "sentences"
   ]
  },
  {
   "cell_type": "markdown",
   "metadata": {},
   "source": [
    "# End of Third Lesson"
   ]
  },
  {
   "cell_type": "markdown",
   "metadata": {},
   "source": [
    "# Fourth Lesson"
   ]
  },
  {
   "cell_type": "markdown",
   "metadata": {},
   "source": [
    "### Text Visualization"
   ]
  },
  {
   "cell_type": "markdown",
   "metadata": {},
   "source": [
    "### Creating Bag of Words Model"
   ]
  },
  {
   "cell_type": "code",
   "execution_count": 27,
   "metadata": {},
   "outputs": [],
   "source": [
    "# paragraphmix = \"\"\" I have three visions for India. In 3000 years of our history, people from all over the world have \n",
    "# come and invaded us, captured our lands, conquered our minds. From Alexander onwards, the Greeks, the Turks, \n",
    "# the Moguls, the Portuguese, the British, the French, the Dutch, all of them came and looted us, took over \n",
    "# what was ours. Yet, we have not done this to any other nation. We have not conquered anyone. We have not \n",
    "# grabbed their land, their culture, their history and tried to enforce our way of life on them. Why? \n",
    "# Because we respect the freedom of others.That is why my first vision is that of FREEDOM. I believe that \n",
    "# India got its first vision of this in 1857, when we started the war of Independence. It is this freedom \n",
    "# that we must protect and nurture and build on. If we are not free, no one will respect us. My second vision \n",
    "# for India’s DEVELOPMENT. For fifty years we have been a developing nation. It is time we see ourselves as \n",
    "# a developed nation. We are among top five nations of the world in terms of GDP. We have 10 per cent growth \n",
    "# rate in most areas. Our poverty levels are falling. Our achievements are being globally recognised today. \n",
    "# Yet we lack the self-confidence to see ourselves as a developed nation, self-reliant and self-assured. \n",
    "# Isn’t this incorrect? I have a THIRD vision. India must stand up to the world. Because I believe that, \n",
    "# unless India stands up to the world, no one will respect us. Only strength respects strength. We must be \n",
    "# strong not only as a military power but also as an economic power. Both must go hand-in-hand. My good fortune \n",
    "# was to have worked with three great minds. Dr. Vikram Sarabhai of the Department of Space, Professor \n",
    "# Satish Dhawan, who succeeded him and Dr.Brahm Prakash, the father of nuclear material. I was lucky to \n",
    "# have worked with all three of them closely and consider this the great opportunity of my life. \"\"\""
   ]
  },
  {
   "cell_type": "code",
   "execution_count": 28,
   "metadata": {},
   "outputs": [],
   "source": [
    "# paragraph = paragraphmix.lower()"
   ]
  },
  {
   "cell_type": "code",
   "execution_count": 29,
   "metadata": {},
   "outputs": [],
   "source": [
    "# paragraph"
   ]
  },
  {
   "cell_type": "code",
   "execution_count": 30,
   "metadata": {},
   "outputs": [],
   "source": [
    "# Bag of words or Document matrix.\n",
    "# Bag of words important for sentimental analysis"
   ]
  },
  {
   "cell_type": "code",
   "execution_count": 31,
   "metadata": {},
   "outputs": [],
   "source": [
    "# Steps in Bag of worsd:\n",
    "# 1. Lowering the sentences (convert all text to lower case)\n",
    "# 2. Tokenisation (convert to sentences)\n",
    "# 3. Histogram (Count frequency of each words)\n",
    "# 4. Sort the Histogram (in Descending order)\n",
    "# 5. Filter the words 10 most frequent\n",
    "# 6. Create the matrix (Now creating the matrix nothing but \"BAG OF WORDS\", matrix is called the \"DOCUMENT MATRIX\")\n",
    "# 7. "
   ]
  },
  {
   "cell_type": "code",
   "execution_count": 3,
   "metadata": {},
   "outputs": [],
   "source": [
    "import nltk\n",
    "import re\n",
    "from nltk.corpus import stopwords\n",
    "from nltk.stem.porter import PorterStemmer\n",
    "from nltk.stem import WordNetLemmatizer"
   ]
  },
  {
   "cell_type": "code",
   "execution_count": 4,
   "metadata": {},
   "outputs": [],
   "source": [
    "paragraph = \"\"\" I have three visions for India. In 3000 years of our history, people from all over the world have \n",
    "come and invaded us, captured our lands, conquered our minds. From Alexander onwards, the Greeks, the Turks, \n",
    "the Moguls, the Portuguese, the British, the French, the Dutch, all of them came and looted us, took over \n",
    "what was ours. Yet, we have not done this to any other nation. We have not conquered anyone. We have not \n",
    "grabbed their land, their culture, their history and tried to enforce our way of life on them. Why? \n",
    "Because we respect the freedom of others.That is why my first vision is that of FREEDOM. I believe that \n",
    "India got its first vision of this in 1857, when we started the war of Independence. It is this freedom \n",
    "that we must protect and nurture and build on. If we are not free, no one will respect us. My second vision \n",
    "for India’s DEVELOPMENT. For fifty years we have been a developing nation. It is time we see ourselves as \n",
    "a developed nation. We are among top five nations of the world in terms of GDP. We have 10 per cent growth \n",
    "rate in most areas. Our poverty levels are falling. Our achievements are being globally recognised today. \n",
    "Yet we lack the self-confidence to see ourselves as a developed nation, self-reliant and self-assured. \n",
    "Isn’t this incorrect? I have a THIRD vision. India must stand up to the world. Because I believe that, \n",
    "unless India stands up to the world, no one will respect us. Only strength respects strength. We must be \n",
    "strong not only as a military power but also as an economic power. Both must go hand-in-hand. My good fortune \n",
    "was to have worked with three great minds. Dr. Vikram Sarabhai of the Department of Space, Professor \n",
    "Satish Dhawan, who succeeded him and Dr.Brahm Prakash, the father of nuclear material. I was lucky to \n",
    "have worked with all three of them closely and consider this the great opportunity of my life. \"\"\""
   ]
  },
  {
   "cell_type": "code",
   "execution_count": 5,
   "metadata": {},
   "outputs": [],
   "source": [
    "ps = PorterStemmer()\n",
    "wordnet = WordNetLemmatizer()"
   ]
  },
  {
   "cell_type": "code",
   "execution_count": 6,
   "metadata": {},
   "outputs": [],
   "source": [
    "sentences = nltk.sent_tokenize(paragraph)"
   ]
  },
  {
   "cell_type": "code",
   "execution_count": 7,
   "metadata": {},
   "outputs": [],
   "source": [
    "new_text = []"
   ]
  },
  {
   "cell_type": "markdown",
   "metadata": {},
   "source": [
    "# Cleaning the Text"
   ]
  },
  {
   "cell_type": "code",
   "execution_count": 36,
   "metadata": {},
   "outputs": [],
   "source": [
    "# for i in range(len(sentences)):\n",
    "#     review = re.sub('[^a-zA-Z]', ' ', sentences[i])\n",
    "#     review = review.lower()\n",
    "#     review = review.split()\n",
    "#     review = nltk.word_tokenize(sentences[i])\n",
    "#     review = [stemmer.stem(word) for word in review if word not in set(stopwords.words('english'))] # List comprehension\n",
    "#     sentences[i] = ' '.join(review)\n",
    "#     corpus.append(review)"
   ]
  },
  {
   "cell_type": "code",
   "execution_count": 8,
   "metadata": {},
   "outputs": [],
   "source": [
    "sentences = nltk.sent_tokenize(paragraph)\n",
    "new_text = []\n",
    "for i in range(len(sentences)):\n",
    "    review = re.sub('[^a-zA-Z]', ' ', sentences[i])\n",
    "    review = review.lower()\n",
    "    review = review.split()\n",
    "    review = nltk.word_tokenize(sentences[i])\n",
    "    review = [wordnet.lemmatize(word) for word in review if word not in set(stopwords.words('english'))] # List comprehension\n",
    "    sentences[i] = ' '.join(review)\n",
    "    new_text.append(review)"
   ]
  },
  {
   "cell_type": "code",
   "execution_count": 9,
   "metadata": {},
   "outputs": [
    {
     "data": {
      "text/plain": [
       "[['I', 'three', 'vision', 'India', '.'],\n",
       " ['In',\n",
       "  '3000',\n",
       "  'year',\n",
       "  'history',\n",
       "  ',',\n",
       "  'people',\n",
       "  'world',\n",
       "  'come',\n",
       "  'invaded',\n",
       "  'u',\n",
       "  ',',\n",
       "  'captured',\n",
       "  'land',\n",
       "  ',',\n",
       "  'conquered',\n",
       "  'mind',\n",
       "  '.'],\n",
       " ['From',\n",
       "  'Alexander',\n",
       "  'onwards',\n",
       "  ',',\n",
       "  'Greeks',\n",
       "  ',',\n",
       "  'Turks',\n",
       "  ',',\n",
       "  'Moguls',\n",
       "  ',',\n",
       "  'Portuguese',\n",
       "  ',',\n",
       "  'British',\n",
       "  ',',\n",
       "  'French',\n",
       "  ',',\n",
       "  'Dutch',\n",
       "  ',',\n",
       "  'came',\n",
       "  'looted',\n",
       "  'u',\n",
       "  ',',\n",
       "  'took',\n",
       "  '.'],\n",
       " ['Yet', ',', 'done', 'nation', '.'],\n",
       " ['We', 'conquered', 'anyone', '.'],\n",
       " ['We',\n",
       "  'grabbed',\n",
       "  'land',\n",
       "  ',',\n",
       "  'culture',\n",
       "  ',',\n",
       "  'history',\n",
       "  'tried',\n",
       "  'enforce',\n",
       "  'way',\n",
       "  'life',\n",
       "  '.'],\n",
       " ['Why', '?'],\n",
       " ['Because',\n",
       "  'respect',\n",
       "  'freedom',\n",
       "  'others.That',\n",
       "  'first',\n",
       "  'vision',\n",
       "  'FREEDOM',\n",
       "  '.'],\n",
       " ['I',\n",
       "  'believe',\n",
       "  'India',\n",
       "  'got',\n",
       "  'first',\n",
       "  'vision',\n",
       "  '1857',\n",
       "  ',',\n",
       "  'started',\n",
       "  'war',\n",
       "  'Independence',\n",
       "  '.'],\n",
       " ['It', 'freedom', 'must', 'protect', 'nurture', 'build', '.'],\n",
       " ['If', 'free', ',', 'one', 'respect', 'u', '.'],\n",
       " ['My', 'second', 'vision', 'India', '’', 'DEVELOPMENT', '.'],\n",
       " ['For', 'fifty', 'year', 'developing', 'nation', '.'],\n",
       " ['It', 'time', 'see', 'developed', 'nation', '.'],\n",
       " ['We', 'among', 'top', 'five', 'nation', 'world', 'term', 'GDP', '.'],\n",
       " ['We', '10', 'per', 'cent', 'growth', 'rate', 'area', '.'],\n",
       " ['Our', 'poverty', 'level', 'falling', '.'],\n",
       " ['Our', 'achievement', 'globally', 'recognised', 'today', '.'],\n",
       " ['Yet',\n",
       "  'lack',\n",
       "  'self-confidence',\n",
       "  'see',\n",
       "  'developed',\n",
       "  'nation',\n",
       "  ',',\n",
       "  'self-reliant',\n",
       "  'self-assured',\n",
       "  '.'],\n",
       " ['Isn', '’', 'incorrect', '?'],\n",
       " ['I', 'THIRD', 'vision', '.'],\n",
       " ['India', 'must', 'stand', 'world', '.'],\n",
       " ['Because',\n",
       "  'I',\n",
       "  'believe',\n",
       "  ',',\n",
       "  'unless',\n",
       "  'India',\n",
       "  'stand',\n",
       "  'world',\n",
       "  ',',\n",
       "  'one',\n",
       "  'respect',\n",
       "  'u',\n",
       "  '.'],\n",
       " ['Only', 'strength', 'respect', 'strength', '.'],\n",
       " ['We',\n",
       "  'must',\n",
       "  'strong',\n",
       "  'military',\n",
       "  'power',\n",
       "  'also',\n",
       "  'economic',\n",
       "  'power',\n",
       "  '.'],\n",
       " ['Both', 'must', 'go', 'hand-in-hand', '.'],\n",
       " ['My', 'good', 'fortune', 'worked', 'three', 'great', 'mind', '.'],\n",
       " ['Dr.',\n",
       "  'Vikram',\n",
       "  'Sarabhai',\n",
       "  'Department',\n",
       "  'Space',\n",
       "  ',',\n",
       "  'Professor',\n",
       "  'Satish',\n",
       "  'Dhawan',\n",
       "  ',',\n",
       "  'succeeded',\n",
       "  'Dr.Brahm',\n",
       "  'Prakash',\n",
       "  ',',\n",
       "  'father',\n",
       "  'nuclear',\n",
       "  'material',\n",
       "  '.'],\n",
       " ['I',\n",
       "  'lucky',\n",
       "  'worked',\n",
       "  'three',\n",
       "  'closely',\n",
       "  'consider',\n",
       "  'great',\n",
       "  'opportunity',\n",
       "  'life',\n",
       "  '.']]"
      ]
     },
     "execution_count": 9,
     "metadata": {},
     "output_type": "execute_result"
    }
   ],
   "source": [
    "new_text"
   ]
  },
  {
   "cell_type": "markdown",
   "metadata": {},
   "source": [
    "# Crattig the Bag of Words Model "
   ]
  },
  {
   "cell_type": "code",
   "execution_count": 11,
   "metadata": {},
   "outputs": [],
   "source": [
    "# from sklearn.feature_extraction.text import CountVectorizer\n",
    "# # cv = CountVectorizer(max_features=1500)\n",
    "# cv = CountVectorizer()\n",
    "# X = cv.fit(corpus)"
   ]
  },
  {
   "cell_type": "code",
   "execution_count": 10,
   "metadata": {},
   "outputs": [],
   "source": [
    "# Creating the Bag of Words model\n",
    "from sklearn.feature_extraction.text import CountVectorizer\n",
    "cv = CountVectorizer(max_features = 1500)\n",
    "# X = cv.fit_transform(new_text).toarray()"
   ]
  },
  {
   "cell_type": "code",
   "execution_count": 12,
   "metadata": {},
   "outputs": [
    {
     "ename": "AttributeError",
     "evalue": "'list' object has no attribute 'lower'",
     "output_type": "error",
     "traceback": [
      "\u001b[1;31m---------------------------------------------------------------------------\u001b[0m",
      "\u001b[1;31mAttributeError\u001b[0m                            Traceback (most recent call last)",
      "\u001b[1;32m<ipython-input-12-035505d4dd00>\u001b[0m in \u001b[0;36m<module>\u001b[1;34m\u001b[0m\n\u001b[1;32m----> 1\u001b[1;33m \u001b[0mX\u001b[0m \u001b[1;33m=\u001b[0m \u001b[0mcv\u001b[0m\u001b[1;33m.\u001b[0m\u001b[0mfit_transform\u001b[0m\u001b[1;33m(\u001b[0m\u001b[0mnew_text\u001b[0m\u001b[1;33m)\u001b[0m\u001b[1;33m.\u001b[0m\u001b[0mtoarray\u001b[0m\u001b[1;33m(\u001b[0m\u001b[1;33m)\u001b[0m\u001b[1;33m\u001b[0m\u001b[1;33m\u001b[0m\u001b[0m\n\u001b[0m",
      "\u001b[1;32mC:\\ProgramData\\Anaconda3\\lib\\site-packages\\sklearn\\feature_extraction\\text.py\u001b[0m in \u001b[0;36mfit_transform\u001b[1;34m(self, raw_documents, y)\u001b[0m\n\u001b[0;32m   1056\u001b[0m \u001b[1;33m\u001b[0m\u001b[0m\n\u001b[0;32m   1057\u001b[0m         vocabulary, X = self._count_vocab(raw_documents,\n\u001b[1;32m-> 1058\u001b[1;33m                                           self.fixed_vocabulary_)\n\u001b[0m\u001b[0;32m   1059\u001b[0m \u001b[1;33m\u001b[0m\u001b[0m\n\u001b[0;32m   1060\u001b[0m         \u001b[1;32mif\u001b[0m \u001b[0mself\u001b[0m\u001b[1;33m.\u001b[0m\u001b[0mbinary\u001b[0m\u001b[1;33m:\u001b[0m\u001b[1;33m\u001b[0m\u001b[1;33m\u001b[0m\u001b[0m\n",
      "\u001b[1;32mC:\\ProgramData\\Anaconda3\\lib\\site-packages\\sklearn\\feature_extraction\\text.py\u001b[0m in \u001b[0;36m_count_vocab\u001b[1;34m(self, raw_documents, fixed_vocab)\u001b[0m\n\u001b[0;32m    968\u001b[0m         \u001b[1;32mfor\u001b[0m \u001b[0mdoc\u001b[0m \u001b[1;32min\u001b[0m \u001b[0mraw_documents\u001b[0m\u001b[1;33m:\u001b[0m\u001b[1;33m\u001b[0m\u001b[1;33m\u001b[0m\u001b[0m\n\u001b[0;32m    969\u001b[0m             \u001b[0mfeature_counter\u001b[0m \u001b[1;33m=\u001b[0m \u001b[1;33m{\u001b[0m\u001b[1;33m}\u001b[0m\u001b[1;33m\u001b[0m\u001b[1;33m\u001b[0m\u001b[0m\n\u001b[1;32m--> 970\u001b[1;33m             \u001b[1;32mfor\u001b[0m \u001b[0mfeature\u001b[0m \u001b[1;32min\u001b[0m \u001b[0manalyze\u001b[0m\u001b[1;33m(\u001b[0m\u001b[0mdoc\u001b[0m\u001b[1;33m)\u001b[0m\u001b[1;33m:\u001b[0m\u001b[1;33m\u001b[0m\u001b[1;33m\u001b[0m\u001b[0m\n\u001b[0m\u001b[0;32m    971\u001b[0m                 \u001b[1;32mtry\u001b[0m\u001b[1;33m:\u001b[0m\u001b[1;33m\u001b[0m\u001b[1;33m\u001b[0m\u001b[0m\n\u001b[0;32m    972\u001b[0m                     \u001b[0mfeature_idx\u001b[0m \u001b[1;33m=\u001b[0m \u001b[0mvocabulary\u001b[0m\u001b[1;33m[\u001b[0m\u001b[0mfeature\u001b[0m\u001b[1;33m]\u001b[0m\u001b[1;33m\u001b[0m\u001b[1;33m\u001b[0m\u001b[0m\n",
      "\u001b[1;32mC:\\ProgramData\\Anaconda3\\lib\\site-packages\\sklearn\\feature_extraction\\text.py\u001b[0m in \u001b[0;36m<lambda>\u001b[1;34m(doc)\u001b[0m\n\u001b[0;32m    350\u001b[0m                                                tokenize)\n\u001b[0;32m    351\u001b[0m             return lambda doc: self._word_ngrams(\n\u001b[1;32m--> 352\u001b[1;33m                 tokenize(preprocess(self.decode(doc))), stop_words)\n\u001b[0m\u001b[0;32m    353\u001b[0m \u001b[1;33m\u001b[0m\u001b[0m\n\u001b[0;32m    354\u001b[0m         \u001b[1;32melse\u001b[0m\u001b[1;33m:\u001b[0m\u001b[1;33m\u001b[0m\u001b[1;33m\u001b[0m\u001b[0m\n",
      "\u001b[1;32mC:\\ProgramData\\Anaconda3\\lib\\site-packages\\sklearn\\feature_extraction\\text.py\u001b[0m in \u001b[0;36m<lambda>\u001b[1;34m(x)\u001b[0m\n\u001b[0;32m    254\u001b[0m \u001b[1;33m\u001b[0m\u001b[0m\n\u001b[0;32m    255\u001b[0m         \u001b[1;32mif\u001b[0m \u001b[0mself\u001b[0m\u001b[1;33m.\u001b[0m\u001b[0mlowercase\u001b[0m\u001b[1;33m:\u001b[0m\u001b[1;33m\u001b[0m\u001b[1;33m\u001b[0m\u001b[0m\n\u001b[1;32m--> 256\u001b[1;33m             \u001b[1;32mreturn\u001b[0m \u001b[1;32mlambda\u001b[0m \u001b[0mx\u001b[0m\u001b[1;33m:\u001b[0m \u001b[0mstrip_accents\u001b[0m\u001b[1;33m(\u001b[0m\u001b[0mx\u001b[0m\u001b[1;33m.\u001b[0m\u001b[0mlower\u001b[0m\u001b[1;33m(\u001b[0m\u001b[1;33m)\u001b[0m\u001b[1;33m)\u001b[0m\u001b[1;33m\u001b[0m\u001b[1;33m\u001b[0m\u001b[0m\n\u001b[0m\u001b[0;32m    257\u001b[0m         \u001b[1;32melse\u001b[0m\u001b[1;33m:\u001b[0m\u001b[1;33m\u001b[0m\u001b[1;33m\u001b[0m\u001b[0m\n\u001b[0;32m    258\u001b[0m             \u001b[1;32mreturn\u001b[0m \u001b[0mstrip_accents\u001b[0m\u001b[1;33m\u001b[0m\u001b[1;33m\u001b[0m\u001b[0m\n",
      "\u001b[1;31mAttributeError\u001b[0m: 'list' object has no attribute 'lower'"
     ]
    }
   ],
   "source": [
    "X = cv.fit_transform(new_text).toarray()"
   ]
  },
  {
   "cell_type": "markdown",
   "metadata": {},
   "source": [
    "# End of Fourth Lesson"
   ]
  },
  {
   "cell_type": "code",
   "execution_count": null,
   "metadata": {},
   "outputs": [],
   "source": []
  }
 ],
 "metadata": {
  "kernelspec": {
   "display_name": "Python 3",
   "language": "python",
   "name": "python3"
  },
  "language_info": {
   "codemirror_mode": {
    "name": "ipython",
    "version": 3
   },
   "file_extension": ".py",
   "mimetype": "text/x-python",
   "name": "python",
   "nbconvert_exporter": "python",
   "pygments_lexer": "ipython3",
   "version": "3.7.4"
  }
 },
 "nbformat": 4,
 "nbformat_minor": 2
}
