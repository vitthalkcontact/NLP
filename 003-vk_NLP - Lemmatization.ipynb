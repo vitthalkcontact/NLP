{
 "cells": [
  {
   "cell_type": "markdown",
   "metadata": {},
   "source": [
    "# Lemmatization"
   ]
  },
  {
   "cell_type": "code",
   "execution_count": 1,
   "metadata": {},
   "outputs": [],
   "source": [
    "import nltk"
   ]
  },
  {
   "cell_type": "code",
   "execution_count": 2,
   "metadata": {},
   "outputs": [
    {
     "name": "stdout",
     "output_type": "stream",
     "text": [
      "showing info https://raw.githubusercontent.com/nltk/nltk_data/gh-pages/index.xml\n"
     ]
    },
    {
     "data": {
      "text/plain": [
       "True"
      ]
     },
     "execution_count": 2,
     "metadata": {},
     "output_type": "execute_result"
    }
   ],
   "source": [
    "nltk.download()"
   ]
  },
  {
   "cell_type": "code",
   "execution_count": 3,
   "metadata": {},
   "outputs": [],
   "source": [
    "paragraph = \"\"\"In a country like India with a galloping population, unfortunately nobody is paying attention to the issue \n",
    "of population. Political parties are feeling shy, politicians are feeling shy, Parliament also does not adequately discuss \n",
    "about the issue,” said Naidu while addressing the 58th convocation of Indian Agricultural Research Institute (IARI).\n",
    "\n",
    "He said, “You know how population is growing, creating problems. See the problems in Delhi, traffic, more human beings, \n",
    "more vehicles, more tension, less attention. If you have tension you cannot pay attention.” \n",
    "Emphasising on the need to increase food production to meet demand of growing population, Naidu said, \n",
    "“In future if population increases like this, and you are not able to adequately match it with increase in production, \n",
    "there will be problem\"\"\""
   ]
  },
  {
   "cell_type": "code",
   "execution_count": 4,
   "metadata": {},
   "outputs": [],
   "source": [
    "sentences = nltk.sent_tokenize(paragraph)"
   ]
  },
  {
   "cell_type": "code",
   "execution_count": 6,
   "metadata": {},
   "outputs": [],
   "source": [
    "# sentences"
   ]
  },
  {
   "cell_type": "code",
   "execution_count": 8,
   "metadata": {},
   "outputs": [],
   "source": [
    "from nltk.stem import WordNetLemmatizer"
   ]
  },
  {
   "cell_type": "code",
   "execution_count": 9,
   "metadata": {},
   "outputs": [],
   "source": [
    "from nltk.corpus import stopwords"
   ]
  },
  {
   "cell_type": "code",
   "execution_count": 10,
   "metadata": {},
   "outputs": [],
   "source": [
    "lemmatization = WordNetLemmatizer()"
   ]
  },
  {
   "cell_type": "code",
   "execution_count": 11,
   "metadata": {},
   "outputs": [],
   "source": [
    "for i in range(len(sentences)):\n",
    "    words = nltk.word_tokenize(sentences[i])\n",
    "    words = [lemmatization.lemmatize(word) for word in words if word not in set(stopwords.words('english'))]\n",
    "    sentences[i] = ' '.join(words)"
   ]
  },
  {
   "cell_type": "code",
   "execution_count": 12,
   "metadata": {},
   "outputs": [
    {
     "data": {
      "text/plain": [
       "['In country like India galloping population , unfortunately nobody paying attention issue population .',\n",
       " 'Political party feeling shy , politician feeling shy , Parliament also adequately discus issue , ” said Naidu addressing 58th convocation Indian Agricultural Research Institute ( IARI ) .',\n",
       " 'He said , “ You know population growing , creating problem .',\n",
       " 'See problem Delhi , traffic , human being , vehicle , tension , le attention .',\n",
       " 'If tension pay attention. ” Emphasising need increase food production meet demand growing population , Naidu said , “ In future population increase like , able adequately match increase production , problem']"
      ]
     },
     "execution_count": 12,
     "metadata": {},
     "output_type": "execute_result"
    }
   ],
   "source": [
    "sentences"
   ]
  },
  {
   "cell_type": "markdown",
   "metadata": {},
   "source": [
    "# Difference between Stemming and Lemmatization"
   ]
  },
  {
   "cell_type": "markdown",
   "metadata": {},
   "source": [
    " - Lemmatization words have meaning whereas Stemming words may or may not have meaning.\n",
    " - Lemmatization process is slow compared to Stemming.\n",
    " - Lemmatization is preffered when meaning of word is crucial/important for example in filling applications\n",
    "    whereas Stemming is preffered when the meaning of the word is least important like email is spam or not"
   ]
  },
  {
   "cell_type": "code",
   "execution_count": null,
   "metadata": {},
   "outputs": [],
   "source": []
  },
  {
   "cell_type": "code",
   "execution_count": 1,
   "metadata": {},
   "outputs": [],
   "source": [
    "# Lemmatization"
   ]
  },
  {
   "cell_type": "code",
   "execution_count": 2,
   "metadata": {},
   "outputs": [],
   "source": [
    "import nltk"
   ]
  },
  {
   "cell_type": "code",
   "execution_count": 3,
   "metadata": {},
   "outputs": [
    {
     "name": "stdout",
     "output_type": "stream",
     "text": [
      "showing info https://raw.githubusercontent.com/nltk/nltk_data/gh-pages/index.xml\n"
     ]
    },
    {
     "data": {
      "text/plain": [
       "True"
      ]
     },
     "execution_count": 3,
     "metadata": {},
     "output_type": "execute_result"
    }
   ],
   "source": [
    "nltk.download()"
   ]
  },
  {
   "cell_type": "code",
   "execution_count": 4,
   "metadata": {},
   "outputs": [],
   "source": [
    "# Paragraph or Corpse"
   ]
  },
  {
   "cell_type": "code",
   "execution_count": 8,
   "metadata": {},
   "outputs": [],
   "source": [
    "paragraph = \"\"\"In a country like India with a galloping population, unfortunately nobody is paying attention to the issue \n",
    "of population. Political parties are feeling shy, politicians are feeling shy, Parliament also does not adequately discuss \n",
    "about the issue,” said Naidu while addressing the 58th convocation of Indian Agricultural Research Institute (IARI).\n",
    "\n",
    "He said, “You know how population is growing, creating problems. See the problems in Delhi, traffic, more human beings, \n",
    "more vehicles, more tension, less attention. If you have tension you cannot pay attention.” \n",
    "Emphasising on the need to increase food production to meet demand of growing population, Naidu said, \n",
    "“In future if population increases like this, and you are not able to adequately match it with increase in production, \n",
    "there will be problem\"\"\""
   ]
  },
  {
   "cell_type": "code",
   "execution_count": 15,
   "metadata": {},
   "outputs": [],
   "source": [
    "# Tokenization"
   ]
  },
  {
   "cell_type": "code",
   "execution_count": 16,
   "metadata": {},
   "outputs": [],
   "source": [
    "sentences = nltk.sent_tokenize(paragraph)"
   ]
  },
  {
   "cell_type": "code",
   "execution_count": 12,
   "metadata": {},
   "outputs": [],
   "source": [
    "# sentences"
   ]
  },
  {
   "cell_type": "code",
   "execution_count": 13,
   "metadata": {},
   "outputs": [],
   "source": [
    "# Import Libraries"
   ]
  },
  {
   "cell_type": "code",
   "execution_count": 17,
   "metadata": {},
   "outputs": [],
   "source": [
    "from nltk.stem import WordNetLemmatizer"
   ]
  },
  {
   "cell_type": "code",
   "execution_count": 18,
   "metadata": {},
   "outputs": [],
   "source": [
    "from nltk.corpus import stopwords"
   ]
  },
  {
   "cell_type": "code",
   "execution_count": 19,
   "metadata": {},
   "outputs": [],
   "source": [
    "# Tokenization & Lemmatization objective creation"
   ]
  },
  {
   "cell_type": "code",
   "execution_count": 20,
   "metadata": {},
   "outputs": [],
   "source": [
    "Lemmatization = WordNetLemmatizer()"
   ]
  },
  {
   "cell_type": "code",
   "execution_count": 21,
   "metadata": {},
   "outputs": [],
   "source": [
    "for i in range(len(sentences)):\n",
    "    words = nltk.word_tokenize(sentences[i])\n",
    "    words = [Lemmatization.lemmatize(word) for word in words if word not in set(stopwords.words('english'))]\n",
    "    sentences[i] = ' '.join(words)"
   ]
  },
  {
   "cell_type": "code",
   "execution_count": 22,
   "metadata": {},
   "outputs": [
    {
     "data": {
      "text/plain": [
       "['In country like India galloping population , unfortunately nobody paying attention issue population .',\n",
       " 'Political party feeling shy , politician feeling shy , Parliament also adequately discus issue , ” said Naidu addressing 58th convocation Indian Agricultural Research Institute ( IARI ) .',\n",
       " 'He said , “ You know population growing , creating problem .',\n",
       " 'See problem Delhi , traffic , human being , vehicle , tension , le attention .',\n",
       " 'If tension pay attention. ” Emphasising need increase food production meet demand growing population , Naidu said , “ In future population increase like , able adequately match increase production , problem']"
      ]
     },
     "execution_count": 22,
     "metadata": {},
     "output_type": "execute_result"
    }
   ],
   "source": [
    "sentences"
   ]
  },
  {
   "cell_type": "markdown",
   "metadata": {},
   "source": [
    "# Difference between Stemming & Lemmatization"
   ]
  },
  {
   "cell_type": "code",
   "execution_count": 13,
   "metadata": {},
   "outputs": [],
   "source": [
    "# 1. Lemmatization words have meaning whereas Stemming words may or may not have meaning.\n",
    "# 2. Lemmatization process is slow compared to Stemming.\n",
    "# 3. Lemmatization is preffered when meaning of words is crucial/important fr example in filling applications \n",
    "# whereas Stemming is preferred when meaning of word is least important like email is spam or not."
   ]
  }
 ],
 "metadata": {
  "kernelspec": {
   "display_name": "Python 3",
   "language": "python",
   "name": "python3"
  },
  "language_info": {
   "codemirror_mode": {
    "name": "ipython",
    "version": 3
   },
   "file_extension": ".py",
   "mimetype": "text/x-python",
   "name": "python",
   "nbconvert_exporter": "python",
   "pygments_lexer": "ipython3",
   "version": "3.7.4"
  }
 },
 "nbformat": 4,
 "nbformat_minor": 2
}
