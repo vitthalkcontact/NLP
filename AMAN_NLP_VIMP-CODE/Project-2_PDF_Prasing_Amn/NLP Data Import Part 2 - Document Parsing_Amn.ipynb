{
 "cells": [
  {
   "cell_type": "markdown",
   "metadata": {},
   "source": [
    "# Uber bills parsing - Pdf file parsing"
   ]
  },
  {
   "cell_type": "code",
   "execution_count": 20,
   "metadata": {},
   "outputs": [],
   "source": [
    "import os\n",
    "dir_Path = 'C://Users//VK//AI//ML//NLP//NLP_Amn//Project-2_PDF_Prasing_Amn//Dummy_bills//'\n",
    "os.chdir(dir_Path)"
   ]
  },
  {
   "cell_type": "code",
   "execution_count": 21,
   "metadata": {},
   "outputs": [
    {
     "data": {
      "text/plain": [
       "'C:\\\\Users\\\\VK\\\\AI\\\\ML\\\\NLP\\\\NLP_Amn\\\\Project-2_PDF_Prasing_Amn\\\\Dummy_bills'"
      ]
     },
     "execution_count": 21,
     "metadata": {},
     "output_type": "execute_result"
    }
   ],
   "source": [
    "os.getcwd()"
   ]
  },
  {
   "cell_type": "code",
   "execution_count": 22,
   "metadata": {},
   "outputs": [
    {
     "data": {
      "text/plain": [
       "['01Feb1.pdf',\n",
       " '01Jan1.pdf',\n",
       " '02Feb2.pdf',\n",
       " '02Jan2.pdf',\n",
       " '02Jan3.pdf',\n",
       " '03Feb3.pdf']"
      ]
     },
     "execution_count": 22,
     "metadata": {},
     "output_type": "execute_result"
    }
   ],
   "source": [
    "os.listdir()"
   ]
  },
  {
   "cell_type": "code",
   "execution_count": 25,
   "metadata": {},
   "outputs": [
    {
     "name": "stdout",
     "output_type": "stream",
     "text": [
      ", , \n",
      ", , \n",
      ", , \n",
      ", , \n",
      ", , \n",
      ", , \n"
     ]
    }
   ],
   "source": [
    "import PyPDF2\n",
    "\n",
    "file_List = os.listdir()\n",
    " \n",
    "for file_Name in file_List:\n",
    " \n",
    "    f = open(dir_Path+file_Name, 'rb')\n",
    "    reader = PyPDF2.PdfFileReader(f)\n",
    "    file_contents = reader.getPage(0).extractText().split('\\n')\n",
    "    invoice_no = \"\"\n",
    "    date = \"\"\n",
    "    amount = \"\"\n",
    " \n",
    "    for i in range(len(file_contents)):\n",
    "        if file_contents[i].find(\"Invoice Number\") != -1:\n",
    "            invoice_no = file_contents[i].split(': ')[1]\n",
    "        if file_contents[i].find(\"Invoice Date\") != -1:\n",
    "            date = file_contents[i].split(': ')[1]\n",
    "        if file_contents[i].find(\"Gross Amount\") != -1:\n",
    "            amount = file_contents[i+1].split(' ')[0]\n",
    " \n",
    "    print(invoice_no + \", \" + date + \", \" + amount)\n",
    "    f.close()"
   ]
  },
  {
   "cell_type": "markdown",
   "metadata": {},
   "source": [
    "# Word file parsing"
   ]
  },
  {
   "cell_type": "code",
   "execution_count": 26,
   "metadata": {},
   "outputs": [],
   "source": [
    "import docx2txt\n",
    "import os\n",
    "dir_Path = 'C://Users//VK//AI//ML//NLP//NLP_Amn//Project-2_PDF_Prasing_Amn//'\n",
    "os.chdir(dir_Path)\n",
    " \n",
    "# read in word file\n",
    "result = docx2txt.process(\"Master_Bill_format.docx\")"
   ]
  },
  {
   "cell_type": "code",
   "execution_count": 27,
   "metadata": {},
   "outputs": [
    {
     "data": {
      "text/plain": [
       "'Vitthal Konaraddi\\t\\t\\t\\t\\tInvoice issued on behalf Uber:\\n\\n\\t\\t\\t\\t\\t\\t\\tVitthal Konaraddi\\n\\n\\t\\t\\t\\t\\t\\t\\tBangalore, Karnataka\\n\\n\\n\\nInvoice Number: QWERTY-01-2020-006\\n\\nInvoice Date: 11Aug 2019\\n\\nPlace: Bangaloe\\n\\n\\n\\nLub lub message and company retrmsand conditions\\n\\n\\n\\n\\t\\t\\t\\t\\t\\tGross Amount \\t\\t4050'"
      ]
     },
     "execution_count": 27,
     "metadata": {},
     "output_type": "execute_result"
    }
   ],
   "source": [
    "result"
   ]
  },
  {
   "cell_type": "code",
   "execution_count": null,
   "metadata": {},
   "outputs": [],
   "source": []
  }
 ],
 "metadata": {
  "kernelspec": {
   "display_name": "Python 3",
   "language": "python",
   "name": "python3"
  },
  "language_info": {
   "codemirror_mode": {
    "name": "ipython",
    "version": 3
   },
   "file_extension": ".py",
   "mimetype": "text/x-python",
   "name": "python",
   "nbconvert_exporter": "python",
   "pygments_lexer": "ipython3",
   "version": "3.7.4"
  }
 },
 "nbformat": 4,
 "nbformat_minor": 4
}
