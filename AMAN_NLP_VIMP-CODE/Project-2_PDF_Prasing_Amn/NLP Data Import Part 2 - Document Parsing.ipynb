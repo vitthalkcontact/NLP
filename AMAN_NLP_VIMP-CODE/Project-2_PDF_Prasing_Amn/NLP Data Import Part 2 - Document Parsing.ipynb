{
 "cells": [
  {
   "cell_type": "markdown",
   "metadata": {},
   "source": [
    "# Uber bills parsing - Pdf file parsing"
   ]
  },
  {
   "cell_type": "code",
   "execution_count": 1,
   "metadata": {},
   "outputs": [],
   "source": [
    "import os\n",
    "dir_Path = 'D:/01_DATA_SCIENCE_FINAL/D-00000-NLP/NLP-CODES/AMAN-NLP-CODES/AMAN_NLP_VIMP-CODE/Project-2_PDF_Prasing_Amn/uber_bills/'\n",
    "os.chdir(dir_Path)"
   ]
  },
  {
   "cell_type": "code",
   "execution_count": 2,
   "metadata": {},
   "outputs": [
    {
     "data": {
      "text/plain": [
       "'D:\\\\01_DATA_SCIENCE_FINAL\\\\D-00000-NLP\\\\NLP-CODES\\\\AMAN-NLP-CODES\\\\AMAN_NLP_VIMP-CODE\\\\Project-2_PDF_Prasing_Amn\\\\uber_bills'"
      ]
     },
     "execution_count": 2,
     "metadata": {},
     "output_type": "execute_result"
    }
   ],
   "source": [
    "os.getcwd()"
   ]
  },
  {
   "cell_type": "code",
   "execution_count": 3,
   "metadata": {},
   "outputs": [
    {
     "data": {
      "text/plain": [
       "['01Feb12020.pdf', '01Feb22020.pdf', '01Jan12020.pdf', '01Jan22020.pdf']"
      ]
     },
     "execution_count": 3,
     "metadata": {},
     "output_type": "execute_result"
    }
   ],
   "source": [
    "os.listdir()"
   ]
  },
  {
   "cell_type": "code",
   "execution_count": 7,
   "metadata": {},
   "outputs": [],
   "source": [
    "import PyPDF2\n",
    "file_List = os.listdir()"
   ]
  },
  {
   "cell_type": "code",
   "execution_count": 8,
   "metadata": {},
   "outputs": [
    {
     "name": "stdout",
     "output_type": "stream",
     "text": [
      "01Feb12020.pdf\n",
      "Invoice Number:QWERTY\n",
      "-\n",
      "01\n",
      "-\n",
      "2020\n",
      "-\n",
      "04\n",
      " \n",
      "Invoice Date:09AUG2019\n",
      " \n",
      "Gross Amount:1050\n",
      " \n",
      "\n",
      "01Feb22020.pdf\n",
      "Invoice Number:QWERTY\n",
      "-\n",
      "01\n",
      "-\n",
      "2020\n",
      "-\n",
      "04\n",
      " \n",
      "Invoice Date:09AUG2019\n",
      " \n",
      "Gross Amount:1050\n",
      " \n",
      "\n",
      "01Jan12020.pdf\n",
      "Invoice Number:QWERTY\n",
      "-\n",
      "01\n",
      "-\n",
      "2020\n",
      "-\n",
      "04\n",
      " \n",
      "Invoice Date:09AUG2019\n",
      " \n",
      "Gross Amount:1050\n",
      " \n",
      "\n",
      "01Jan22020.pdf\n",
      "Invoice Number:QWERTY\n",
      "-\n",
      "01\n",
      "-\n",
      "2020\n",
      "-\n",
      "04\n",
      " \n",
      "Invoice Date:09AUG2019\n",
      " \n",
      "Gross Amount:1050\n",
      " \n",
      "\n"
     ]
    }
   ],
   "source": [
    "for file_Name in file_List:\n",
    "    print(file_Name)\n",
    "    \n",
    "    f = open(dir_Path+file_Name, 'rb')\n",
    "    reader = PyPDF2.PdfFileReader(f)\n",
    "    file_contents = reader.getPage(0).extractText()\n",
    "    print(file_contents)\n",
    "#     file_contents = reader.getPage(0).extractText().split('\\n')\n",
    "    \n",
    "#     print(file_contents) \n"
   ]
  },
  {
   "cell_type": "code",
   "execution_count": 9,
   "metadata": {},
   "outputs": [],
   "source": [
    "# !pip install PyPDF2"
   ]
  },
  {
   "cell_type": "code",
   "execution_count": 10,
   "metadata": {},
   "outputs": [],
   "source": [
    "# !pdfminer 20191125"
   ]
  },
  {
   "cell_type": "code",
   "execution_count": 11,
   "metadata": {},
   "outputs": [
    {
     "ename": "IndexError",
     "evalue": "list index out of range",
     "output_type": "error",
     "traceback": [
      "\u001b[1;31m---------------------------------------------------------------------------\u001b[0m",
      "\u001b[1;31mIndexError\u001b[0m                                Traceback (most recent call last)",
      "\u001b[1;32m<ipython-input-11-62dbbec1a9a5>\u001b[0m in \u001b[0;36m<module>\u001b[1;34m\u001b[0m\n\u001b[0;32m     14\u001b[0m     \u001b[1;32mfor\u001b[0m \u001b[0mi\u001b[0m \u001b[1;32min\u001b[0m \u001b[0mrange\u001b[0m\u001b[1;33m(\u001b[0m\u001b[0mlen\u001b[0m\u001b[1;33m(\u001b[0m\u001b[0mfile_contents\u001b[0m\u001b[1;33m)\u001b[0m\u001b[1;33m)\u001b[0m\u001b[1;33m:\u001b[0m\u001b[1;33m\u001b[0m\u001b[1;33m\u001b[0m\u001b[0m\n\u001b[0;32m     15\u001b[0m         \u001b[1;32mif\u001b[0m \u001b[0mfile_contents\u001b[0m\u001b[1;33m[\u001b[0m\u001b[0mi\u001b[0m\u001b[1;33m]\u001b[0m\u001b[1;33m.\u001b[0m\u001b[0mfind\u001b[0m\u001b[1;33m(\u001b[0m\u001b[1;34m\"Invoice Number\"\u001b[0m\u001b[1;33m)\u001b[0m \u001b[1;33m!=\u001b[0m \u001b[1;33m-\u001b[0m\u001b[1;36m1\u001b[0m\u001b[1;33m:\u001b[0m\u001b[1;33m\u001b[0m\u001b[1;33m\u001b[0m\u001b[0m\n\u001b[1;32m---> 16\u001b[1;33m             \u001b[0minvoice_no\u001b[0m \u001b[1;33m=\u001b[0m \u001b[0mfile_contents\u001b[0m\u001b[1;33m[\u001b[0m\u001b[0mi\u001b[0m\u001b[1;33m]\u001b[0m\u001b[1;33m.\u001b[0m\u001b[0msplit\u001b[0m\u001b[1;33m(\u001b[0m\u001b[1;34m': '\u001b[0m\u001b[1;33m)\u001b[0m\u001b[1;33m[\u001b[0m\u001b[1;36m1\u001b[0m\u001b[1;33m]\u001b[0m\u001b[1;33m\u001b[0m\u001b[1;33m\u001b[0m\u001b[0m\n\u001b[0m\u001b[0;32m     17\u001b[0m         \u001b[1;32mif\u001b[0m \u001b[0mfile_contents\u001b[0m\u001b[1;33m[\u001b[0m\u001b[0mi\u001b[0m\u001b[1;33m]\u001b[0m\u001b[1;33m.\u001b[0m\u001b[0mfind\u001b[0m\u001b[1;33m(\u001b[0m\u001b[1;34m\"Invoice Date\"\u001b[0m\u001b[1;33m)\u001b[0m \u001b[1;33m!=\u001b[0m \u001b[1;33m-\u001b[0m\u001b[1;36m1\u001b[0m\u001b[1;33m:\u001b[0m\u001b[1;33m\u001b[0m\u001b[1;33m\u001b[0m\u001b[0m\n\u001b[0;32m     18\u001b[0m             \u001b[0mdate\u001b[0m \u001b[1;33m=\u001b[0m \u001b[0mfile_contents\u001b[0m\u001b[1;33m[\u001b[0m\u001b[0mi\u001b[0m\u001b[1;33m]\u001b[0m\u001b[1;33m.\u001b[0m\u001b[0msplit\u001b[0m\u001b[1;33m(\u001b[0m\u001b[1;34m': '\u001b[0m\u001b[1;33m)\u001b[0m\u001b[1;33m[\u001b[0m\u001b[1;36m1\u001b[0m\u001b[1;33m]\u001b[0m\u001b[1;33m\u001b[0m\u001b[1;33m\u001b[0m\u001b[0m\n",
      "\u001b[1;31mIndexError\u001b[0m: list index out of range"
     ]
    }
   ],
   "source": [
    "import PyPDF2\n",
    "\n",
    "file_List = os.listdir()\n",
    " \n",
    "for file_Name in file_List:\n",
    " \n",
    "    f = open(dir_Path+file_Name, 'rb')\n",
    "    reader = PyPDF2.PdfFileReader(f)\n",
    "    file_contents = reader.getPage(0).extractText().split('\\n')\n",
    "    invoice_no = \"\"\n",
    "    date = \"\"\n",
    "    amount = \"\"\n",
    " \n",
    "    for i in range(len(file_contents)):\n",
    "        if file_contents[i].find(\"Invoice Number\") != -1:\n",
    "            invoice_no = file_contents[i].split(': ')[1]\n",
    "        if file_contents[i].find(\"Invoice Date\") != -1:\n",
    "            date = file_contents[i].split(': ')[1]\n",
    "        if file_contents[i].find(\"Gross Amount\") != -1:\n",
    "            amount = file_contents[i+1].split(' ')[0]\n",
    " \n",
    "    print(invoice_no + \", \" + date + \", \" + amount)\n",
    "    f.close()"
   ]
  },
  {
   "cell_type": "code",
   "execution_count": 15,
   "metadata": {},
   "outputs": [
    {
     "name": "stdout",
     "output_type": "stream",
     "text": [
      ", , \n",
      ", , \n",
      ", , \n",
      ", , \n"
     ]
    }
   ],
   "source": [
    "import PyPDF2\n",
    "\n",
    "file_List = os.listdir()\n",
    " \n",
    "for file_Name in file_List:\n",
    " \n",
    "    f = open(dir_Path+file_Name, 'rb')\n",
    "    reader = PyPDF2.PdfFileReader(f)\n",
    "    file_contents = reader.getPage(0).extractText().split('\\n')\n",
    "    invoice_no = \"\"\n",
    "    date = \"\"\n",
    "    amount = \"\"\n",
    " \n",
    "    for i in range(len(file_contents)):\n",
    "        if file_contents[i].find(\"Invoice Number\") == 1:\n",
    "            invoice_no = file_contents[i].split(':')[1]\n",
    "        if file_contents[i].find(\"Invoice Date\") == 1:\n",
    "            date = file_contents[i].split(':')[1]\n",
    "        if file_contents[i].find(\"Gross Amount\") == 1:\n",
    "            amount = file_contents[i+1].split(':')[0]\n",
    " \n",
    "    print(invoice_no + \", \" + date + \", \" + amount)\n",
    "    f.close()"
   ]
  },
  {
   "cell_type": "markdown",
   "metadata": {},
   "source": [
    "# Word file parsing"
   ]
  },
  {
   "cell_type": "code",
   "execution_count": 19,
   "metadata": {},
   "outputs": [],
   "source": [
    "import docx2txt\n",
    "import os\n",
    "dir_Path = 'D:\\\\01_DATA_SCIENCE_FINAL\\\\D-00000-NLP\\\\NLP-CODES\\AMAN-NLP-CODES\\\\AMAN_NLP_VIMP-CODE\\\\Project-2_PDF_Prasing_Amn\\\\word_doc\\\\'\n",
    "os.chdir(dir_Path)\n",
    " \n",
    "# read in word file\n",
    "result = docx2txt.process(\"Master_Bill_format.docx\")"
   ]
  },
  {
   "cell_type": "code",
   "execution_count": 20,
   "metadata": {},
   "outputs": [
    {
     "data": {
      "text/plain": [
       "'Vitthal Konaraddi\\t\\t\\t\\t\\tInvoice issued on behalf Uber:\\n\\n\\t\\t\\t\\t\\t\\t\\tVitthal Konaraddi\\n\\n\\t\\t\\t\\t\\t\\t\\tBangalore, Karnataka\\n\\n\\n\\nInvoice Number: QWERTY-01-2020-006\\n\\nInvoice Date: 11Aug 2019\\n\\nPlace: Bangaloe\\n\\n\\n\\nLub lub message and company retrmsand conditions\\n\\n\\n\\n\\t\\t\\t\\t\\t\\tGross Amount \\t\\t4050'"
      ]
     },
     "execution_count": 20,
     "metadata": {},
     "output_type": "execute_result"
    }
   ],
   "source": [
    "result"
   ]
  },
  {
   "cell_type": "code",
   "execution_count": 22,
   "metadata": {},
   "outputs": [],
   "source": [
    "import docx2txt"
   ]
  },
  {
   "cell_type": "code",
   "execution_count": 21,
   "metadata": {},
   "outputs": [
    {
     "ename": "AttributeError",
     "evalue": "module 'docx2txt' has no attribute 'PdfFileReader'",
     "output_type": "error",
     "traceback": [
      "\u001b[1;31m---------------------------------------------------------------------------\u001b[0m",
      "\u001b[1;31mAttributeError\u001b[0m                            Traceback (most recent call last)",
      "\u001b[1;32m<ipython-input-21-bf7fa5a39b69>\u001b[0m in \u001b[0;36m<module>\u001b[1;34m\u001b[0m\n\u001b[0;32m      6\u001b[0m \u001b[1;33m\u001b[0m\u001b[0m\n\u001b[0;32m      7\u001b[0m     \u001b[0mf\u001b[0m \u001b[1;33m=\u001b[0m \u001b[0mopen\u001b[0m\u001b[1;33m(\u001b[0m\u001b[0mdir_Path\u001b[0m\u001b[1;33m+\u001b[0m\u001b[0mfile_Name\u001b[0m\u001b[1;33m,\u001b[0m \u001b[1;34m'rb'\u001b[0m\u001b[1;33m)\u001b[0m\u001b[1;33m\u001b[0m\u001b[1;33m\u001b[0m\u001b[0m\n\u001b[1;32m----> 8\u001b[1;33m     \u001b[0mreader\u001b[0m \u001b[1;33m=\u001b[0m \u001b[0mdocx2txt\u001b[0m\u001b[1;33m.\u001b[0m\u001b[0mPdfFileReader\u001b[0m\u001b[1;33m(\u001b[0m\u001b[0mf\u001b[0m\u001b[1;33m)\u001b[0m\u001b[1;33m\u001b[0m\u001b[1;33m\u001b[0m\u001b[0m\n\u001b[0m\u001b[0;32m      9\u001b[0m     \u001b[0mfile_contents\u001b[0m \u001b[1;33m=\u001b[0m \u001b[0mreader\u001b[0m\u001b[1;33m.\u001b[0m\u001b[0mgetPage\u001b[0m\u001b[1;33m(\u001b[0m\u001b[1;36m0\u001b[0m\u001b[1;33m)\u001b[0m\u001b[1;33m.\u001b[0m\u001b[0mextractText\u001b[0m\u001b[1;33m(\u001b[0m\u001b[1;33m)\u001b[0m\u001b[1;33m.\u001b[0m\u001b[0msplit\u001b[0m\u001b[1;33m(\u001b[0m\u001b[1;34m'\\n'\u001b[0m\u001b[1;33m)\u001b[0m\u001b[1;33m\u001b[0m\u001b[1;33m\u001b[0m\u001b[0m\n\u001b[0;32m     10\u001b[0m     \u001b[0minvoice_no\u001b[0m \u001b[1;33m=\u001b[0m \u001b[1;34m\"\"\u001b[0m\u001b[1;33m\u001b[0m\u001b[1;33m\u001b[0m\u001b[0m\n",
      "\u001b[1;31mAttributeError\u001b[0m: module 'docx2txt' has no attribute 'PdfFileReader'"
     ]
    }
   ],
   "source": [
    "import docx2txt\n",
    "\n",
    "file_List = os.listdir()\n",
    " \n",
    "for file_Name in file_List:\n",
    " \n",
    "    f = open(dir_Path+file_Name, 'rb')\n",
    "    reader = docx2txt.PdfFileReader(f)\n",
    "    file_contents = reader.getPage(0).extractText().split('\\n')\n",
    "    invoice_no = \"\"\n",
    "    date = \"\"\n",
    "    amount = \"\"\n",
    " \n",
    "    for i in range(len(file_contents)):\n",
    "        if file_contents[i].find(\"Invoice Number\") == 1:\n",
    "            invoice_no = file_contents[i].split(':')[1]\n",
    "        if file_contents[i].find(\"Invoice Date\") == 1:\n",
    "            date = file_contents[i].split(':')[1]\n",
    "        if file_contents[i].find(\"Gross Amount\") == 1:\n",
    "            amount = file_contents[i+1].split(':')[0]\n",
    " \n",
    "    print(invoice_no + \", \" + date + \", \" + amount)\n",
    "    f.close()"
   ]
  },
  {
   "cell_type": "code",
   "execution_count": null,
   "metadata": {},
   "outputs": [],
   "source": []
  }
 ],
 "metadata": {
  "kernelspec": {
   "display_name": "Python 3",
   "language": "python",
   "name": "python3"
  },
  "language_info": {
   "codemirror_mode": {
    "name": "ipython",
    "version": 3
   },
   "file_extension": ".py",
   "mimetype": "text/x-python",
   "name": "python",
   "nbconvert_exporter": "python",
   "pygments_lexer": "ipython3",
   "version": "3.7.4"
  }
 },
 "nbformat": 4,
 "nbformat_minor": 2
}
