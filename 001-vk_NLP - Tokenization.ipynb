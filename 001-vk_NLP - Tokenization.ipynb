{
 "cells": [
  {
   "cell_type": "markdown",
   "metadata": {},
   "source": [
    "# Tokenization"
   ]
  },
  {
   "cell_type": "code",
   "execution_count": 1,
   "metadata": {},
   "outputs": [],
   "source": [
    "import nltk"
   ]
  },
  {
   "cell_type": "code",
   "execution_count": 2,
   "metadata": {},
   "outputs": [
    {
     "name": "stdout",
     "output_type": "stream",
     "text": [
      "showing info https://raw.githubusercontent.com/nltk/nltk_data/gh-pages/index.xml\n"
     ]
    },
    {
     "data": {
      "text/plain": [
       "True"
      ]
     },
     "execution_count": 2,
     "metadata": {},
     "output_type": "execute_result"
    }
   ],
   "source": [
    "nltk.download()"
   ]
  },
  {
   "cell_type": "code",
   "execution_count": 3,
   "metadata": {},
   "outputs": [],
   "source": [
    "paragraph =\"\"\"In a country like India with a galloping population, unfortunately nobody is paying attention to the issue \n",
    "of population. Political parties are feeling shy, politicians are feeling shy, Parliament also does not adequately discuss \n",
    "about the issue,” said Naidu while addressing the 58th convocation of Indian Agricultural Research Institute (IARI).\n",
    "\n",
    "He said, “You know how population is growing, creating problems. See the problems in Delhi, traffic, more human beings, \n",
    "more vehicles, more tension, less attention. If you have tension you cannot pay attention.” \n",
    "Emphasising on the need to increase food production to meet demand of growing population, Naidu said, \n",
    "“In future if population increases like this, and you are not able to adequately match it with increase in production, \n",
    "there will be problem\"\"\""
   ]
  },
  {
   "cell_type": "code",
   "execution_count": 4,
   "metadata": {},
   "outputs": [],
   "source": [
    "sentences = nltk.sent_tokenize(paragraph)"
   ]
  },
  {
   "cell_type": "code",
   "execution_count": 5,
   "metadata": {},
   "outputs": [
    {
     "data": {
      "text/plain": [
       "['In a country like India with a galloping population, unfortunately nobody is paying attention to the issue \\nof population.',\n",
       " 'Political parties are feeling shy, politicians are feeling shy, Parliament also does not adequately discuss \\nabout the issue,” said Naidu while addressing the 58th convocation of Indian Agricultural Research Institute (IARI).',\n",
       " 'He said, “You know how population is growing, creating problems.',\n",
       " 'See the problems in Delhi, traffic, more human beings, \\nmore vehicles, more tension, less attention.',\n",
       " 'If you have tension you cannot pay attention.” \\nEmphasising on the need to increase food production to meet demand of growing population, Naidu said, \\n“In future if population increases like this, and you are not able to adequately match it with increase in production, \\nthere will be problem']"
      ]
     },
     "execution_count": 5,
     "metadata": {},
     "output_type": "execute_result"
    }
   ],
   "source": [
    "sentences"
   ]
  },
  {
   "cell_type": "code",
   "execution_count": 8,
   "metadata": {},
   "outputs": [],
   "source": [
    "words = nltk.word_tokenize(paragraph)"
   ]
  },
  {
   "cell_type": "code",
   "execution_count": 9,
   "metadata": {},
   "outputs": [
    {
     "data": {
      "text/plain": [
       "['In',\n",
       " 'a',\n",
       " 'country',\n",
       " 'like',\n",
       " 'India',\n",
       " 'with',\n",
       " 'a',\n",
       " 'galloping',\n",
       " 'population',\n",
       " ',',\n",
       " 'unfortunately',\n",
       " 'nobody',\n",
       " 'is',\n",
       " 'paying',\n",
       " 'attention',\n",
       " 'to',\n",
       " 'the',\n",
       " 'issue',\n",
       " 'of',\n",
       " 'population',\n",
       " '.',\n",
       " 'Political',\n",
       " 'parties',\n",
       " 'are',\n",
       " 'feeling',\n",
       " 'shy',\n",
       " ',',\n",
       " 'politicians',\n",
       " 'are',\n",
       " 'feeling',\n",
       " 'shy',\n",
       " ',',\n",
       " 'Parliament',\n",
       " 'also',\n",
       " 'does',\n",
       " 'not',\n",
       " 'adequately',\n",
       " 'discuss',\n",
       " 'about',\n",
       " 'the',\n",
       " 'issue',\n",
       " ',',\n",
       " '”',\n",
       " 'said',\n",
       " 'Naidu',\n",
       " 'while',\n",
       " 'addressing',\n",
       " 'the',\n",
       " '58th',\n",
       " 'convocation',\n",
       " 'of',\n",
       " 'Indian',\n",
       " 'Agricultural',\n",
       " 'Research',\n",
       " 'Institute',\n",
       " '(',\n",
       " 'IARI',\n",
       " ')',\n",
       " '.',\n",
       " 'He',\n",
       " 'said',\n",
       " ',',\n",
       " '“',\n",
       " 'You',\n",
       " 'know',\n",
       " 'how',\n",
       " 'population',\n",
       " 'is',\n",
       " 'growing',\n",
       " ',',\n",
       " 'creating',\n",
       " 'problems',\n",
       " '.',\n",
       " 'See',\n",
       " 'the',\n",
       " 'problems',\n",
       " 'in',\n",
       " 'Delhi',\n",
       " ',',\n",
       " 'traffic',\n",
       " ',',\n",
       " 'more',\n",
       " 'human',\n",
       " 'beings',\n",
       " ',',\n",
       " 'more',\n",
       " 'vehicles',\n",
       " ',',\n",
       " 'more',\n",
       " 'tension',\n",
       " ',',\n",
       " 'less',\n",
       " 'attention',\n",
       " '.',\n",
       " 'If',\n",
       " 'you',\n",
       " 'have',\n",
       " 'tension',\n",
       " 'you',\n",
       " 'can',\n",
       " 'not',\n",
       " 'pay',\n",
       " 'attention.',\n",
       " '”',\n",
       " 'Emphasising',\n",
       " 'on',\n",
       " 'the',\n",
       " 'need',\n",
       " 'to',\n",
       " 'increase',\n",
       " 'food',\n",
       " 'production',\n",
       " 'to',\n",
       " 'meet',\n",
       " 'demand',\n",
       " 'of',\n",
       " 'growing',\n",
       " 'population',\n",
       " ',',\n",
       " 'Naidu',\n",
       " 'said',\n",
       " ',',\n",
       " '“',\n",
       " 'In',\n",
       " 'future',\n",
       " 'if',\n",
       " 'population',\n",
       " 'increases',\n",
       " 'like',\n",
       " 'this',\n",
       " ',',\n",
       " 'and',\n",
       " 'you',\n",
       " 'are',\n",
       " 'not',\n",
       " 'able',\n",
       " 'to',\n",
       " 'adequately',\n",
       " 'match',\n",
       " 'it',\n",
       " 'with',\n",
       " 'increase',\n",
       " 'in',\n",
       " 'production',\n",
       " ',',\n",
       " 'there',\n",
       " 'will',\n",
       " 'be',\n",
       " 'problem']"
      ]
     },
     "execution_count": 9,
     "metadata": {},
     "output_type": "execute_result"
    }
   ],
   "source": [
    "words"
   ]
  },
  {
   "cell_type": "code",
   "execution_count": null,
   "metadata": {},
   "outputs": [],
   "source": []
  },
  {
   "cell_type": "markdown",
   "metadata": {},
   "source": [
    "# Tokenization"
   ]
  },
  {
   "cell_type": "code",
   "execution_count": 2,
   "metadata": {},
   "outputs": [],
   "source": [
    "import nltk"
   ]
  },
  {
   "cell_type": "code",
   "execution_count": 3,
   "metadata": {},
   "outputs": [
    {
     "name": "stdout",
     "output_type": "stream",
     "text": [
      "showing info https://raw.githubusercontent.com/nltk/nltk_data/gh-pages/index.xml\n"
     ]
    },
    {
     "data": {
      "text/plain": [
       "True"
      ]
     },
     "execution_count": 3,
     "metadata": {},
     "output_type": "execute_result"
    }
   ],
   "source": [
    "nltk.download()"
   ]
  },
  {
   "cell_type": "code",
   "execution_count": 4,
   "metadata": {},
   "outputs": [],
   "source": [
    "# Paragraph or corpse for paper\n",
    "# https://epaper.timesgroup.com/Olive/ODN/TimesOfIndia/?olv-cache-ver=20200214093226"
   ]
  },
  {
   "cell_type": "code",
   "execution_count": 9,
   "metadata": {},
   "outputs": [],
   "source": [
    "paragraph =\"\"\"In a country like India with a galloping population, unfortunately nobody is paying attention to the issue \n",
    "of population. Political parties are feeling shy, politicians are feeling shy, Parliament also does not adequately discuss \n",
    "about the issue,” said Naidu while addressing the 58th convocation of Indian Agricultural Research Institute (IARI).\n",
    "\n",
    "He said, “You know how population is growing, creating problems. See the problems in Delhi, traffic, more human beings, \n",
    "more vehicles, more tension, less attention. If you have tension you cannot pay attention.” \n",
    "Emphasising on the need to increase food production to meet demand of growing population, Naidu said, \n",
    "“In future if population increases like this, and you are not able to adequately match it with increase in production, \n",
    "there will be problem\"\"\""
   ]
  },
  {
   "cell_type": "code",
   "execution_count": 10,
   "metadata": {},
   "outputs": [],
   "source": [
    "# Tokenization"
   ]
  },
  {
   "cell_type": "code",
   "execution_count": 11,
   "metadata": {},
   "outputs": [],
   "source": [
    "sentences = nltk.sent_tokenize(paragraph)"
   ]
  },
  {
   "cell_type": "code",
   "execution_count": 18,
   "metadata": {},
   "outputs": [],
   "source": [
    "# sentences"
   ]
  },
  {
   "cell_type": "code",
   "execution_count": 19,
   "metadata": {},
   "outputs": [],
   "source": [
    "words = nltk.word_tokenize(paragraph)"
   ]
  },
  {
   "cell_type": "code",
   "execution_count": 21,
   "metadata": {},
   "outputs": [],
   "source": [
    "# words"
   ]
  }
 ],
 "metadata": {
  "kernelspec": {
   "display_name": "Python 3",
   "language": "python",
   "name": "python3"
  },
  "language_info": {
   "codemirror_mode": {
    "name": "ipython",
    "version": 3
   },
   "file_extension": ".py",
   "mimetype": "text/x-python",
   "name": "python",
   "nbconvert_exporter": "python",
   "pygments_lexer": "ipython3",
   "version": "3.7.4"
  }
 },
 "nbformat": 4,
 "nbformat_minor": 2
}
